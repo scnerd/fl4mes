{
 "cells": [
  {
   "cell_type": "code",
   "execution_count": null,
   "metadata": {},
   "outputs": [],
   "source": [
    "%matplotlib notebook\n",
    "import matplotlib.pyplot as plt\n",
    "\n",
    "%load_ext autoreload\n",
    "%autoreload 2\n",
    "\n",
    "# debug cuda\n",
    "#import os\n",
    "#os.environ['NUMBA_ENABLE_CUDASIM'] = '1'\n",
    "\n",
    "import numba\n",
    "from numba import SmartArray, cuda, float32, int8, int32\n",
    "from numba.cuda.random import create_xoroshiro128p_states as make_rng_states, xoroshiro128p_uniform_float32 as get_rng\n",
    "import numpy as np\n",
    "from IPython import display\n",
    "from scipy.misc import imshow\n",
    "from functools import partial\n",
    "import math\n",
    "from miniutils import progbar"
   ]
  },
  {
   "cell_type": "code",
   "execution_count": null,
   "metadata": {},
   "outputs": [],
   "source": [
    "from fl4mes import variations as v, transforms as t, runner"
   ]
  },
  {
   "cell_type": "code",
   "execution_count": null,
   "metadata": {},
   "outputs": [],
   "source": [
    "v.plot_variation(v.swirl())"
   ]
  },
  {
   "cell_type": "code",
   "execution_count": null,
   "metadata": {},
   "outputs": [],
   "source": [
    "np.random.seed(2)\n",
    "t.plot_transform(t.Transform(), xrs=101, yrs=101)"
   ]
  },
  {
   "cell_type": "code",
   "execution_count": null,
   "metadata": {
    "scrolled": false
   },
   "outputs": [],
   "source": [
    "np.random.seed(0)\n",
    "transforms = [t.Transform() for _ in range(10)]\n",
    "transition_matrix = np.random.normal(size=(10,10))\n",
    "transition_matrix /= np.sum(transition_matrix, axis=1, keepdims=True)\n",
    "kernel, get_img = runner.make_kernel(10, 10000, transforms, transition_matrix, ((-5,5),(-5,5)), (128, 128), min_step=20)\n",
    "\n",
    "plt.figure()\n",
    "for i in progbar(100):\n",
    "    kernel(1000)\n",
    "    r, g, b, a = get_img()\n",
    "    #print(np.sum(a))\n",
    "    im = np.stack([r,g,b], axis=-1)\n",
    "    #print(im.shape)\n",
    "    rough_img = np.log1p(im)\n",
    "    rough_img /= rough_img.max()\n",
    "    plt.imshow(rough_img, interpolation='nearest')\n",
    "    plt.show()\n",
    "    plt.gcf().canvas.draw()"
   ]
  },
  {
   "cell_type": "raw",
   "metadata": {},
   "source": [
    "@cuda.jit\n",
    "def increment_by_one(an_array):\n",
    "    pos = cuda.grid(1)\n",
    "    if pos < an_array.size:\n",
    "        an_array[pos] += 1\n",
    "        \n",
    "        \n",
    "an_array = np.arange(16 * 16 * 2)\n",
    "threadsperblock = (16, 16)\n",
    "blockspergrid = len(an_array) // (np.prod(threadsperblock))\n",
    "increment_by_one[(blockspergrid,1), threadsperblock](an_array)\n",
    "print(an_array[0:5])"
   ]
  },
  {
   "cell_type": "raw",
   "metadata": {},
   "source": [
    "@cuda.jit(device=True)\n",
    "def ones(arr):\n",
    "    arr[0] = 1.0\n",
    "    arr[1] = 1.0\n",
    "\n",
    "@cuda.jit\n",
    "def do_something(an_array):\n",
    "    pos = cuda.grid(1)\n",
    "    cache = cuda.local.array(2, float32)\n",
    "    ones(cache)\n",
    "    an_array[pos] += cache[0] + cache[1]\n",
    "\n",
    "\n",
    "an_array = np.arange(16 * 16 * 2, dtype='float32')\n",
    "threadsperblock = (16, 16)\n",
    "blockspergrid = len(an_array) // (np.prod(threadsperblock))\n",
    "do_something[(blockspergrid,1), threadsperblock](an_array)\n",
    "print(an_array[0:5])\n",
    "print(ones)"
   ]
  },
  {
   "cell_type": "code",
   "execution_count": null,
   "metadata": {},
   "outputs": [],
   "source": [
    "from numba import cuda\n",
    "from numba.cuda.random import create_xoroshiro128p_states, xoroshiro128p_uniform_float32\n",
    "import numpy as np\n",
    "\n",
    "@cuda.jit\n",
    "def compute_pi(rng_states, iterations, out):\n",
    "    \"\"\"Find the maximum value in values and store in result[0]\"\"\"\n",
    "    thread_id = cuda.grid(1)\n",
    "\n",
    "    # Compute pi by drawing random (x, y) points and finding what\n",
    "    # fraction lie inside a unit circle\n",
    "    inside = 0\n",
    "    for i in range(iterations):\n",
    "        x = xoroshiro128p_uniform_float32(rng_states, thread_id)\n",
    "        y = xoroshiro128p_uniform_float32(rng_states, thread_id)\n",
    "        if x**2 + y**2 <= 1.0:\n",
    "            inside += 1\n",
    "\n",
    "    out[thread_id] = 4.0 * inside / iterations\n",
    "\n",
    "threads_per_block = 64\n",
    "blocks = 24\n",
    "rng_states = create_xoroshiro128p_states(threads_per_block * blocks, seed=1)\n",
    "out = np.zeros(threads_per_block * blocks, dtype=np.float32)\n",
    "\n",
    "compute_pi[blocks, threads_per_block](rng_states, 10000, out)\n",
    "print('pi:', out.mean())"
   ]
  },
  {
   "cell_type": "code",
   "execution_count": null,
   "metadata": {},
   "outputs": [],
   "source": []
  }
 ],
 "metadata": {
  "kernelspec": {
   "display_name": "Python 3",
   "language": "python",
   "name": "python3"
  },
  "language_info": {
   "codemirror_mode": {
    "name": "ipython",
    "version": 3
   },
   "file_extension": ".py",
   "mimetype": "text/x-python",
   "name": "python",
   "nbconvert_exporter": "python",
   "pygments_lexer": "ipython3",
   "version": "3.6.3"
  }
 },
 "nbformat": 4,
 "nbformat_minor": 2
}
